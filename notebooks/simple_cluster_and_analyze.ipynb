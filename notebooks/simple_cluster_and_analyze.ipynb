{
 "cells": [
  {
   "cell_type": "code",
   "execution_count": 2,
   "source": [
    "# Description\n",
    "# This document will open user fed data, preform clustering with either wasserstein distance or euclidean distance, and create maps of the resultant CRs. It is also possible to\n",
    "# feed in premade CRs to map and skip clustering. The user can select any lat/lon box, time range, and can select to only use data from over land or only over water.\n",
    "#%%\n",
    "from Functions import plot_hists, plot_rfo, open_and_process\n",
    "import logging as lgr\n",
    "\n",
    "# Path to data to cluster\n",
    "data_path = \"./ISCCP_toy_data.nc\"\n",
    "\n",
    "# Path to the directory you wish to save plots in if running as a script, if None plots will only be shown and not saved. Enter as String\n",
    "save_path = None\n",
    "save_prefix = None  # prefix to put into the name of each plot to distinguish different runs of this script\n",
    "\n",
    "# Variable name of data to cluster in data_path\n",
    "# Name of tau dimension for var_name\n",
    "# Name of height/pressure dimension for var_name\n",
    "var_name =  'n_pctaudist' \n",
    "tau_var_name =  'levtau' \n",
    "ht_var_name =  'levpc'\n",
    "lat_var_name = 'lat'\n",
    "lon_var_name = 'lon'\n",
    "\n",
    "# Does this dataset use cloud top height or cloud top pressure? enter \"h\" for height or \"p\" for pressure\n",
    "height_or_pressure = 'p'\n",
    "\n",
    "# If you wish to only fit data into a set of premade CRs, set this equal to a path to a numpy ndarray of premade cloud regimes of\n",
    "# shape=(k, n_tau_bins * n_pressure_bins). This will skip clustering and preform analysis with the premade regimes\n",
    "# If used, the below kmeans properties are ignored, and k is set to premade_cloud_regimes.shape[0]\n",
    "# Using this is different from setting init in kmeans properties to a set of CRs, as that will continue clustering using the premade \n",
    "# cloud regimes and update them. This will not update the cloud regimes and skips clustering entirely. It will only fit the data into these CRs\n",
    "premade_cloud_regimes = '/project/amp02/idavis/isccp_clustering/modis_and_misr/modis_testing/MODIS_emd-means_n_init5_centers_1.npy'\n",
    "\n",
    "# kmeans properties\n",
    "k=6   # number of cluster to create\n",
    "tol = 1000    # maximum change in inertia values between kmeans iterations to declare convergence. should be higher if using wasserstein distance\n",
    "max_iter = 200   # maximum number of k-means iterations to preform for each initiation\n",
    "init='k-means++'    # initialization technique for kmeans, can be 'k-means++', 'random', or initial clusters to use of shape (k, n_tau_bins * n_pressure_bins)\n",
    "n_init = 1    # number of initiations of the k-means algorithm. The final result will be the initiation with the lowest calculated inertia\n",
    "gpu = False  # If the user has an Nvidia GPU, euclidean clustering can be preformed on it for a very significant speed up. CUPY/CUML must be installed in conda environment.\n",
    "\n",
    "# Choose whether to use a euclidean or wasserstein distance\n",
    "wasserstein_or_euclidean = \"euclidean\"\n",
    "\n",
    "# Minimum and Maximum longitudes and latitudes entered as list, or None for entire range\n",
    "lat_range = [-90,90]\n",
    "lon_range = [-180,180]\n",
    "\n",
    "# Time Range min and max, or None for all time, entered as list of str: Ex. [\"2003-03-01\", \"2004-07-01\"] or ['2003','2007']\n",
    "time_range = None\n",
    "\n",
    "# Use data only over land or over ocean\n",
    "# Set to 'L' for land only, 'O' for ocean only, or False for both land and ocean\n",
    "only_ocean_or_land = 'O'\n",
    "# Does this dataset have a built in variable for land fraction? if so enter as a string, otherwise cartopy will be used to mask out land or water\n",
    "land_frac_var_name = None\n",
    "\n",
    "# Logging level, set to \"INFO\" for information about what the code is doing, otherwise keep at \"WARNING\"\n",
    "logging_level = 'INFO'\n",
    "\n",
    "\n",
    "# Setting up logger\n",
    "lgr.root.setLevel(logging_level)\n",
    "# Concatenating save_path and save prefix\n",
    "if save_path != None: save_path = save_path + save_prefix\n",
    "# Opening data, and clustering\n",
    "mat, cluster_labels, cluster_labels_temp, valid_indicies, ds = open_and_process(data_path, k, tol, max_iter, init, n_init, var_name, tau_var_name, ht_var_name, lat_var_name, lon_var_name, height_or_pressure, wasserstein_or_euclidean, premade_cloud_regimes, lat_range, lon_range, time_range, only_ocean_or_land, land_frac_var_name, cluster=True, gpu=gpu)\n",
    "# Plotting histograms\n",
    "plot_hists(cluster_labels, k, ds, ht_var_name, tau_var_name, valid_indicies, mat, cluster_labels_temp, height_or_pressure, save_path)\n",
    "# Plotting RFO\n",
    "plot_rfo(cluster_labels, k ,ds, save_path)"
   ],
   "outputs": [
    {
     "output_type": "stream",
     "name": "stderr",
     "text": [
      "INFO:root: Opening dataset:\n",
      "INFO:root: Opening finished. Beginning preprocessing:\n"
     ]
    }
   ],
   "metadata": {}
  },
  {
   "cell_type": "code",
   "execution_count": null,
   "source": [],
   "outputs": [],
   "metadata": {}
  }
 ],
 "metadata": {
  "orig_nbformat": 4,
  "language_info": {
   "name": "python",
   "version": "3.9.5",
   "mimetype": "text/x-python",
   "codemirror_mode": {
    "name": "ipython",
    "version": 3
   },
   "pygments_lexer": "ipython3",
   "nbconvert_exporter": "python",
   "file_extension": ".py"
  },
  "kernelspec": {
   "name": "python3",
   "display_name": "Python 3.9.5 64-bit ('clustering': virtualenv)"
  },
  "interpreter": {
   "hash": "5c82514a3a5bab9dc8fa7ef0461220e9cb3d38a64f7d511dfc68fe93fbd887e3"
  }
 },
 "nbformat": 4,
 "nbformat_minor": 2
}